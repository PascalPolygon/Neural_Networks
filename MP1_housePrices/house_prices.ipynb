{
 "nbformat": 4,
 "nbformat_minor": 2,
 "metadata": {
  "language_info": {
   "name": "python",
   "codemirror_mode": {
    "name": "ipython",
    "version": 3
   },
   "version": "2.7.17-final"
  },
  "orig_nbformat": 2,
  "file_extension": ".py",
  "mimetype": "text/x-python",
  "name": "python",
  "npconvert_exporter": "python",
  "pygments_lexer": "ipython3",
  "version": 3,
  "kernelspec": {
   "name": "python36964bit38de1cc02df948d3b9a63469152fc45c",
   "display_name": "Python 3.6.9 64-bit"
  }
 },
 "cells": [
  {
   "cell_type": "markdown",
   "metadata": {},
   "source": [
    "# House prices prediction with linear regression model"
   ]
  },
  {
   "cell_type": "code",
   "execution_count": 113,
   "metadata": {},
   "outputs": [],
   "source": [
    "import matplotlib.pyplot as plt \n",
    "import numpy as np \n",
    "import os\n",
    "import csv"
   ]
  },
  {
   "cell_type": "code",
   "execution_count": 164,
   "metadata": {},
   "outputs": [
    {
     "name": "stdout",
     "output_type": "stream",
     "text": "<_csv.reader object at 0x7f752351a978>\n(1196, 11)\n['YearBuiltSq' '0.901123712900231' '0.5679479094912834' ... '0.25'\n '0.3194706990888469' '0.45415878952551986']\n(1196,)\n(1196, 12)\n(12, 1)\nCursor at: 240\n"
    },
    {
     "ename": "TypeError",
     "evalue": "only integer scalar arrays can be converted to a scalar index",
     "output_type": "error",
     "traceback": [
      "\u001b[0;31m---------------------------------------------------------------------------\u001b[0m",
      "\u001b[0;31mTypeError\u001b[0m                                 Traceback (most recent call last)",
      "\u001b[0;32m<ipython-input-164-04e8140f8c0d>\u001b[0m in \u001b[0;36m<module>\u001b[0;34m\u001b[0m\n\u001b[1;32m     55\u001b[0m \u001b[0;34m\u001b[0m\u001b[0m\n\u001b[1;32m     56\u001b[0m     \u001b[0mtrn_data\u001b[0m\u001b[0;34m,\u001b[0m \u001b[0mcursor\u001b[0m \u001b[0;34m=\u001b[0m \u001b[0mrmv_bin\u001b[0m\u001b[0;34m(\u001b[0m\u001b[0mdata_mtx\u001b[0m\u001b[0;34m,\u001b[0m \u001b[0mcursor\u001b[0m\u001b[0;34m,\u001b[0m \u001b[0;36m239\u001b[0m\u001b[0;34m)\u001b[0m \u001b[0;31m#removes 239 rows starting at cursor\u001b[0m\u001b[0;34m\u001b[0m\u001b[0;34m\u001b[0m\u001b[0m\n\u001b[0;32m---> 57\u001b[0;31m     \u001b[0minput\u001b[0m \u001b[0;34m=\u001b[0m \u001b[0mtrn_data\u001b[0m\u001b[0;34m[\u001b[0m\u001b[0;36m1\u001b[0m\u001b[0;34m:\u001b[0m\u001b[0mtrn_data\u001b[0m\u001b[0;34m[\u001b[0m\u001b[0;36m0\u001b[0m\u001b[0;34m]\u001b[0m\u001b[0;34m,\u001b[0m \u001b[0;36m1\u001b[0m\u001b[0;34m:\u001b[0m\u001b[0mbin\u001b[0m\u001b[0;34m.\u001b[0m\u001b[0mshape\u001b[0m\u001b[0;34m[\u001b[0m\u001b[0;36m1\u001b[0m\u001b[0;34m]\u001b[0m\u001b[0;34m]\u001b[0m\u001b[0;34m\u001b[0m\u001b[0;34m\u001b[0m\u001b[0m\n\u001b[0m\u001b[1;32m     58\u001b[0m     \u001b[0moutput\u001b[0m \u001b[0;34m=\u001b[0m \u001b[0mtrn_data\u001b[0m\u001b[0;34m[\u001b[0m\u001b[0;36m1\u001b[0m\u001b[0;34m:\u001b[0m\u001b[0mtrn_data\u001b[0m\u001b[0;34m[\u001b[0m\u001b[0;36m0\u001b[0m\u001b[0;34m]\u001b[0m\u001b[0;34m,\u001b[0m \u001b[0;36m0\u001b[0m\u001b[0;34m]\u001b[0m\u001b[0;34m\u001b[0m\u001b[0;34m\u001b[0m\u001b[0m\n\u001b[1;32m     59\u001b[0m     \u001b[0;31m# W += lin_reg(input, output)\u001b[0m\u001b[0;34m\u001b[0m\u001b[0;34m\u001b[0m\u001b[0;34m\u001b[0m\u001b[0m\n",
      "\u001b[0;31mTypeError\u001b[0m: only integer scalar arrays can be converted to a scalar index"
     ]
    }
   ],
   "source": [
    "dataFile = './dataset/housing_dataset.csv'\n",
    "cols, rows, data_arr = read_csv_file(dataFile)\n",
    "data_mtx = np.array(data_arr)\n",
    "data_mtx.resize((rows, cols))\n",
    "print(data_mtx.shape)\n",
    "# fields = data_mtx[0]\n",
    "# print(fields)\n",
    "\n",
    "# data_mtx = rmv_col(data_mtx, \"OverallQual\")\n",
    "# print(\"Dim without OverallQual: \", str(data_mtx.shape))\n",
    "\n",
    "\n",
    "# gen_plots(data_mtx)\n",
    "year_blt_sq = gen_fld_sq(data_mtx, \"YearBuilt\")\n",
    "\n",
    "#append that as last colum of our data matrix\n",
    "year_blt_sq = np.c_[year_blt_sq]\n",
    "data_mtx = np.append(data_mtx, year_blt_sq, axis=1)\n",
    "print(data_mtx.shape)\n",
    "# print(data_mtx[0])\n",
    "# print(data_mtx[1])\n",
    "# print(data_mtx[1195])\n",
    "\n",
    "# split_set(data_mtx, 1000) #splits the data, 1st 1000 elements for training. Rest for testing\n",
    "cursor = 1\n",
    "\n",
    "# bin1, cursor = get_bin(data_mtx, cursor, 239)\n",
    "# bin2, cursor = get_bin(data_mtx, cursor, 239)\n",
    "# bin3, cursor = get_bin(data_mtx, cursor, 239)\n",
    "# bin4, cursor = get_bin(data_mtx, cursor, 239)\n",
    "# bin5, cursor = get_bin(data_mtx, cursor, 239)\n",
    "\n",
    "# bin6, cursor = get_bin(data_mtx, cursor, 239)\n",
    "\n",
    "# print(cursor)\n",
    "# print(bin1.shape)\n",
    "# print(bin2.shape)\n",
    "# print(bin1[0])\n",
    "folds = 5\n",
    "# print(data_mtx.shape[0])\n",
    "W_size = data_mtx.shape[1]-1 # -1 is to discard output in col 0\n",
    "# print(bin_size)\n",
    "\n",
    "W = np.zeros((int(W_size)+1, 1))\n",
    "W_sum = np.zeros((int(W_size)+1, 1))\n",
    "W = W.astype(float)\n",
    "W_sum = W_sum.astype(float)\n",
    "print(W.shape)\n",
    "bin_epoch = 1\n",
    "\n",
    "# rmv_bin(data_mtx, cursor, 239)\n",
    "\n",
    "for i in range(5):\n",
    "    # bin, cursor = get_bin(data_mtx, cursor, 239)\n",
    "\n",
    "    trn_data, cursor = rmv_bin(data_mtx, cursor, 239) #removes 239 rows starting at cursor\n",
    "    input = trn_data[1:trn_data[0], 1:bin.shape[1]]\n",
    "    output = trn_data[1:trn_data[0], 0]\n",
    "    # W += lin_reg(input, output)\n",
    "    W_i = lin_reg(input, output)\n",
    "    W_sum += W_i\n",
    "    W = W_sum/bin_epoch\n",
    "    MSE = compute_bin_MSE(input, output, W)\n",
    "    print(\"Fold %d MSE = %f \" % (bin_epoch, MSE))\n",
    "    bin_epoch += 1\n",
    "\n",
    "# W /= 5\n",
    "# MSE = compute_bin_MSE(input, output, W)\n",
    "# print(\"Fold %d MSE = %f \" % (i, MSE))\n",
    "\n",
    "    \n",
    "   \n",
    "    \n",
    "\n",
    "    # print(output.shape)\n",
    "    # print(output) \n",
    "\n",
    "input = data_mtx[1:data_mtx.shape[0], 1:data_mtx.shape[1]] #sub matrix of input data (discards fields at the top)\n",
    "output = data_mtx[1:data_mtx.shape[0], 0] # row 1 to num of rows (discard fields at the top)\n",
    "del data_mtx # We no longer need this, clean up space in memory\n",
    "# print(input)\n",
    "\n",
    "\n",
    "\n",
    "# build linear regression model\n",
    "# lin_reg(input, output)\n",
    "\n",
    "\n"
   ]
  },
  {
   "cell_type": "code",
   "execution_count": 162,
   "metadata": {},
   "outputs": [],
   "source": [
    "def rmv_bin(data_mtx, start, len):\n",
    "    cursor = start+len\n",
    "    rows_to_rmv = range(cursor, cursor+len)\n",
    "    new_mtx = np.delete(data_mtx, rows_to_rmv, 0)\n",
    "    # print(new_mtx.shape)\n",
    "    # print(new_mtx)\n",
    "    print(\"Cursor at: %d\" % cursor)\n",
    "    return new_mtx, cursor\n",
    "\n"
   ]
  },
  {
   "cell_type": "code",
   "execution_count": 140,
   "metadata": {},
   "outputs": [],
   "source": [
    "def compute_bin_MSE(input, output, W):\n",
    "    X = input.astype(float)\n",
    "    Y = output.astype(float)\n",
    "    # Augment input matrix X (1's in col 0)\n",
    "    X = augment(X)\n",
    "    Y = np.c_[Y]\n",
    "    return compute_MSE(Y, np.dot(X, W))\n"
   ]
  },
  {
   "cell_type": "code",
   "execution_count": 85,
   "metadata": {},
   "outputs": [],
   "source": [
    "def get_bin(data_mtx, start, len):\n",
    "    cursor = start+len\n",
    "    bin = data_mtx[start:cursor, :]\n",
    "    print('Cursor: %d' % cursor)\n",
    "    print('Dims: '+ str(bin.shape))\n",
    "    return bin, cursor"
   ]
  },
  {
   "cell_type": "code",
   "execution_count": 59,
   "metadata": {},
   "outputs": [],
   "source": [
    "def gen_fld_sq(data_mtx, fld_to_sq):\n",
    "     fields = data_mtx[0]\n",
    "     idx = np.where(fields == fld_to_sq)\n",
    "     year_blt = data_mtx[1:data_mtx.shape[0], idx].astype(float)\n",
    "     year_blt_sqd = year_blt**2\n",
    "    #  print(year_blt_sqd)\n",
    "    #  print(year_blt_sqd.shape)\n",
    "     year_blt_sqd = year_blt_sqd.astype(str)\n",
    "     year_blt_sqd = np.insert(year_blt_sqd, 0, fld_to_sq+\"Sq\")\n",
    "     print(year_blt_sqd)\n",
    "    #  print(year_blt_sqd.shape)\n",
    "     return year_blt_sqd"
   ]
  },
  {
   "cell_type": "code",
   "execution_count": 31,
   "metadata": {},
   "outputs": [],
   "source": [
    "def rmv_col(mtx, fld_to_rmv):\n",
    "    # idx = mtx[0].index(fld_to_rmv) #index of field to remove\n",
    "    fields = mtx[0]\n",
    "    # idx = fields.where(fld_to_rmv)\n",
    "    idx = np.where(fields == fld_to_rmv)\n",
    "    print(\"Deleting col %d\" % idx)\n",
    "    new_mtx = np.delete(mtx, idx, 1)\n",
    "    \n",
    "    return new_mtx\n"
   ]
  },
  {
   "cell_type": "code",
   "execution_count": 22,
   "metadata": {},
   "outputs": [],
   "source": [
    "def save_csv_file(file_loc, data, fields):\n",
    "    with open(file_loc, mode='w') as file:\n",
    "        file_writer = csv.writer(file, delimiter=',', quotechar='\"')\n",
    "        file_writer.writerow(fields) # write fields outside the loop\n",
    "        for row in range(data.shape[0]):\n",
    "            file_writer.writerow(data[row])"
   ]
  },
  {
   "cell_type": "code",
   "execution_count": 23,
   "metadata": {},
   "outputs": [],
   "source": [
    "def generate_sets(data, max_trn):\n",
    "    fields = data[0]\n",
    "\n",
    "    trn_data = data[1:max_trn+1, :]\n",
    "    test_data = data[max_trn+1:data.shape[0]]\n",
    "    print(\"Training set: \"+str(trn_data.shape))\n",
    "    print(\"Test set: \"+str(test_data.shape))\n",
    "\n",
    "    trn_file_loc = './dataset/training_set.csv'\n",
    "    test_file_loc = './dataset/testing_set.csv'\n",
    "\n",
    "    save_csv_file(trn_file_loc, trn_data, fields)\n",
    "    save_csv_file(test_file_loc, test_data, fields)\n",
    "\n",
    "    \n",
    "\n",
    "    # print(trn_set)\n",
    "    # print(\"_________\")\n",
    "    # print(test_set)"
   ]
  },
  {
   "cell_type": "code",
   "execution_count": 39,
   "metadata": {},
   "outputs": [],
   "source": [
    "def augment(M):\n",
    "    M = np.insert(M, 0, 1, axis=1) #lose 2-3 precision points through rounding (but oh well!)\n",
    "    return M"
   ]
  },
  {
   "cell_type": "code",
   "execution_count": 153,
   "metadata": {},
   "outputs": [],
   "source": [
    "def compute_MSE(Y, Y_hat):\n",
    "    N = len(Y)\n",
    "    MSE = (1/N)*((np.linalg.norm(Y-Y_hat))**2)\n",
    "    print('MSE train: %f' % MSE)\n",
    "    return MSE\n"
   ]
  },
  {
   "cell_type": "code",
   "execution_count": 134,
   "metadata": {},
   "outputs": [],
   "source": [
    "def grad_desc(Y, X, W, lrn_rate, epochs):\n",
    "    N = len(Y)\n",
    "    X_t = np.transpose(X)\n",
    "\n",
    "    print(\"Training (Please don't disturb) ...\")\n",
    "\n",
    "    for epoch in range(epochs):\n",
    "         D_w = (2/N)*(np.dot(X_t, (np.dot(X,W)-Y)))\n",
    "         W = W - np.dot(lrn_rate, D_w)\n",
    "        # Y_hat = np.dot(X,D_w)\n",
    "     #     print(\"Epoch: %d\" % epoch)\n",
    "         compute_MSE(Y, np.dot(X, W))\n",
    "     #     print(\"####################\")\n",
    "         \n",
    "    print(\"Training complete!\")\n",
    "#     print(\"W in grad descent\")\n",
    "#     print(W)\n",
    "\n",
    "    return W"
   ]
  },
  {
   "cell_type": "code",
   "execution_count": 104,
   "metadata": {},
   "outputs": [],
   "source": [
    "def lin_reg(X, Y):\n",
    "    # initial guessing weights\n",
    "    W = np.zeros((X.shape[1]+1, 1)) #The plus 1 to the rows is to include the intercept Wo\n",
    "    W = W.astype(float)\n",
    "    # print(W)\n",
    "    X = X.astype(float)\n",
    "    Y = Y.astype(float)\n",
    "    # Augment input matrix X (1's in col 0)\n",
    "    X = augment(X)\n",
    "    print(\"New input dims\")\n",
    "    print(X.shape)\n",
    "\n",
    "    Y_hat = np.dot(X,W)\n",
    "    \n",
    "    Y = np.c_[Y] # convert to column vector\n",
    "    MSE = compute_MSE(Y,Y_hat)\n",
    "    W = grad_desc(Y, X, W, 0.0001, 1000) # Result of gradient descent is the weights\n",
    "\n",
    "    return W\n"
   ]
  },
  {
   "cell_type": "code",
   "execution_count": 5,
   "metadata": {},
   "outputs": [],
   "source": [
    "def read_csv_file(file):\n",
    "    data_arr = []\n",
    "    with open(file, mode='r') as data:\n",
    "        # data_reader = csv.DictReader(data) # to read as dictionary\n",
    "        data_reader = csv.reader(data)\n",
    "        ln_cnt = 0 #line count\n",
    "        print(data_reader)\n",
    "        for row in data_reader:\n",
    "            if ln_cnt == 0:\n",
    "                field_nb = len(row) #Length of the first row which tells me how many fields there are in the file\n",
    "                data_arr.append(row)\n",
    "            else :\n",
    "                data_arr.append(row)\n",
    "                \n",
    "            ln_cnt+= 1           \n",
    "            \n",
    "    # ln_cnt -= 1 # Correction for counting the first line which contains no data\n",
    "    return field_nb, ln_cnt, data_arr\n",
    "\n",
    "\n"
   ]
  },
  {
   "cell_type": "code",
   "execution_count": 3,
   "metadata": {},
   "outputs": [],
   "source": [
    "def gen_plots(data):\n",
    "    fields = data[0] #first row of data contains fields we will use for labels\n",
    "    data = data[1:data.shape[0], :] # submatrix to ignore row 0\n",
    "    # print(data[0])\n",
    "    # print(data[data.shape[0]-1])\n",
    "    cols = data.shape[1] \n",
    "    print(cols)\n",
    "\n",
    "    y = data[:, 0]\n",
    "\n",
    "    # col_id = 1 #start at one, col 0 is output data\n",
    "\n",
    "    for col_id in range(1, cols):\n",
    "        x = data[:,col_id]\n",
    "        print(col_id)\n",
    "    # y = data[:, 1]\n",
    "        area = np.pi*3\n",
    "        fig = plt.figure(figsize=(10, 10))\n",
    "\n",
    "        axes = fig.add_axes([0.1, 0.1, 0.8, 0.8])\n",
    "        axes.scatter(x, y, s=area, alpha=0.5)\n",
    "\n",
    "        plt.title(fields[0]+\" Vs \"+fields[col_id])\n",
    "        plt.xlabel(fields[col_id])\n",
    "        plt.ylabel(fields[0])\n",
    "        \n",
    "\n",
    "        plt.savefig(\"plot_\"+fields[col_id]+\".png\")\n",
    "        # plt.show()\n",
    "\n",
    "\n",
    "   "
   ]
  },
  {
   "cell_type": "code",
   "execution_count": 7,
   "metadata": {},
   "outputs": [],
   "source": [
    "def generate_sets(data, max_trn):\n",
    "    trn_set = data[1:max_trn, :]\n",
    "    test_set = data[max_trn+1:data.shape[0]-1]\n",
    "    print(\"Training set: \"+str(trn_set.shape))\n",
    "    print(\"Test set: \"+str(test_set.shape))"
   ]
  },
  {
   "cell_type": "code",
   "execution_count": null,
   "metadata": {},
   "outputs": [],
   "source": []
  }
 ]
}